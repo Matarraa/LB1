{
 "cells": [
  {
   "cell_type": "markdown",
   "metadata": {},
   "source": [
    "\n",
    "Дан текст, организовать хранение словаря n-грамм слов текста в виде двоичного дерева и его вывод в виде словаря (разделение и форматирование по первым словам n-грамм)."
   ]
  },
  {
   "cell_type": "markdown",
   "metadata": {},
   "source": [
    "Программа получает на вход текст/предложение и n, равное целому числу. Каждый вершина дерева - это словарь вида:  {'first_word': 'первое слово n-граммы', 'following_words': (кортеж из последующих слов n-граммы)}\n",
    "Каждое из слов предложения имеет свою вершину, кроме последних (n-1)слов. Корнем дерева является слово, которое находится посередине между первым и словом n-ным с конца словом. Левая вершина от него - это слово посередине между первым словом и корнем/родителем, правый узел - это слово посередине между корнем/родителем и n-ным с конца словом. Как то так."
   ]
  },
  {
   "cell_type": "code",
   "execution_count": 57,
   "metadata": {},
   "outputs": [],
   "source": [
    "import nltk\n",
    "from nltk import word_tokenize\n",
    "from nltk.util import ngrams\n",
    "from nltk import everygrams"
   ]
  },
  {
   "cell_type": "code",
   "execution_count": 58,
   "metadata": {},
   "outputs": [],
   "source": [
    "def read_file (filename):\n",
    "    with open (filename, encoding = 'utf-8') as file:\n",
    "        text = file.read()\n",
    "    return text "
   ]
  },
  {
   "cell_type": "code",
   "execution_count": 59,
   "metadata": {},
   "outputs": [],
   "source": [
    "words = []\n",
    "n = 4"
   ]
  },
  {
   "cell_type": "markdown",
   "metadata": {},
   "source": [
    "Примерный текст "
   ]
  },
  {
   "cell_type": "code",
   "execution_count": 60,
   "metadata": {},
   "outputs": [],
   "source": [
    "text = 'Наши матери носили коротенькие талии и огромные рукава и решали семейные дела выниманием билетиков'\n",
    "text = text.lower()"
   ]
  },
  {
   "cell_type": "code",
   "execution_count": 61,
   "metadata": {},
   "outputs": [],
   "source": [
    "tokenized_text = nltk.word_tokenize(text)"
   ]
  },
  {
   "cell_type": "markdown",
   "metadata": {},
   "source": [
    "Функция делает n-граммы из текста:"
   ]
  },
  {
   "cell_type": "code",
   "execution_count": 62,
   "metadata": {},
   "outputs": [],
   "source": [
    "def n_grams_list (tokenized_text, n):\n",
    "    n_grams = list(ngrams(tokenized_text, n))\n",
    "    return n_grams"
   ]
  },
  {
   "cell_type": "markdown",
   "metadata": {},
   "source": [
    "Делаем словарь n-грамм текста:"
   ]
  },
  {
   "cell_type": "code",
   "execution_count": 77,
   "metadata": {},
   "outputs": [],
   "source": [
    "def dict_n_grams (n_grams, n):\n",
    "    list_of_dict = []\n",
    "    for ngram in n_grams:\n",
    "        dictionary = {}\n",
    "        dictionary ['first_word'] = ngram[0]\n",
    "        dictionary ['following_words'] = ngram[1:]\n",
    "        list_of_dict.append(dictionary)\n",
    "    return list_of_dict      "
   ]
  },
  {
   "cell_type": "code",
   "execution_count": 78,
   "metadata": {},
   "outputs": [
    {
     "name": "stdout",
     "output_type": "stream",
     "text": [
      "[('наши', 'матери', 'носили', 'коротенькие'), ('матери', 'носили', 'коротенькие', 'талии'), ('носили', 'коротенькие', 'талии', 'и'), ('коротенькие', 'талии', 'и', 'огромные'), ('талии', 'и', 'огромные', 'рукава'), ('и', 'огромные', 'рукава', 'и'), ('огромные', 'рукава', 'и', 'решали'), ('рукава', 'и', 'решали', 'семейные'), ('и', 'решали', 'семейные', 'дела'), ('решали', 'семейные', 'дела', 'выниманием'), ('семейные', 'дела', 'выниманием', 'билетиков')]\n"
     ]
    }
   ],
   "source": [
    "n_grams = n_grams_list (tokenized_text, n)\n",
    "print (n_grams)"
   ]
  },
  {
   "cell_type": "code",
   "execution_count": 79,
   "metadata": {},
   "outputs": [
    {
     "name": "stdout",
     "output_type": "stream",
     "text": [
      "{'first_word': 'наши', 'following_words': ('матери', 'носили', 'коротенькие')}\n",
      "{'first_word': 'матери', 'following_words': ('носили', 'коротенькие', 'талии')}\n",
      "{'first_word': 'носили', 'following_words': ('коротенькие', 'талии', 'и')}\n",
      "{'first_word': 'коротенькие', 'following_words': ('талии', 'и', 'огромные')}\n",
      "{'first_word': 'талии', 'following_words': ('и', 'огромные', 'рукава')}\n",
      "{'first_word': 'и', 'following_words': ('огромные', 'рукава', 'и')}\n",
      "{'first_word': 'огромные', 'following_words': ('рукава', 'и', 'решали')}\n",
      "{'first_word': 'рукава', 'following_words': ('и', 'решали', 'семейные')}\n",
      "{'first_word': 'и', 'following_words': ('решали', 'семейные', 'дела')}\n",
      "{'first_word': 'решали', 'following_words': ('семейные', 'дела', 'выниманием')}\n",
      "{'first_word': 'семейные', 'following_words': ('дела', 'выниманием', 'билетиков')}\n"
     ]
    }
   ],
   "source": [
    "list_of_dict = dict_n_grams (n_grams, n)\n",
    "for element in list_of_dict:\n",
    "    print (element)"
   ]
  },
  {
   "cell_type": "markdown",
   "metadata": {},
   "source": [
    "Например, в данном случае корнем дерева будет шестой словарь из списка словарей: {'first_word': 'и', 'following_words': ('огромные', 'рукава', 'и')}"
   ]
  },
  {
   "cell_type": "markdown",
   "metadata": {},
   "source": [
    "Создаем двоичное дерево, вершинами которого являются словари из list_of_dict."
   ]
  },
  {
   "cell_type": "code",
   "execution_count": 3,
   "metadata": {},
   "outputs": [],
   "source": [
    "#функция добавления значения к вершине\n",
    "def addValueToNode(node, value):\n",
    "    if node[0] == value:\n",
    "        return\n",
    "    if value < node[0]:\n",
    "        if node[1] == None:\n",
    "            node[1] = [value, None, None]\n",
    "        else:\n",
    "            addValueToNode(node[1], value)\n",
    "    else:\n",
    "        if node[2] == None:\n",
    "            node[2] = [value, None, None]\n",
    "        else:\n",
    "            addValueToNode(node[2], value)"
   ]
  },
  {
   "cell_type": "code",
   "execution_count": 4,
   "metadata": {},
   "outputs": [],
   "source": [
    "#функция добавления значения к дереву\n",
    "def addValueToTree(root, value):\n",
    "    if root == None or root == []:\n",
    "        return [value, None, None]\n",
    "    addValueToNode(root, value)\n",
    "    return root"
   ]
  },
  {
   "cell_type": "markdown",
   "metadata": {},
   "source": [
    "Добавляем корень дерева"
   ]
  },
  {
   "cell_type": "code",
   "execution_count": 89,
   "metadata": {},
   "outputs": [
    {
     "name": "stdout",
     "output_type": "stream",
     "text": [
      "[{'first_word': 'и', 'following_words': ('огромные', 'рукава', 'и')}, None, None]\n"
     ]
    }
   ],
   "source": [
    "#индекс элемента списка словарей, который находится посередине и будет корнем дерева\n",
    "i = len(list_of_dict)//2\n",
    "root_value = list_of_dict[i]\n",
    "root = [root_value, None, None]\n",
    "print (root)"
   ]
  },
  {
   "cell_type": "markdown",
   "metadata": {},
   "source": [
    "Добавляем правое и левое значение для корня"
   ]
  },
  {
   "cell_type": "code",
   "execution_count": 92,
   "metadata": {},
   "outputs": [],
   "source": [
    "root[1] = [list_of_dict[i//2], None, None]\n",
    "root[2] = [list_of_dict[-(i//2)-1], None, None]"
   ]
  },
  {
   "cell_type": "code",
   "execution_count": 93,
   "metadata": {},
   "outputs": [
    {
     "name": "stdout",
     "output_type": "stream",
     "text": [
      "[{'first_word': 'и', 'following_words': ('огромные', 'рукава', 'и')}, [{'first_word': 'носили', 'following_words': ('коротенькие', 'талии', 'и')}, None, None], [{'first_word': 'и', 'following_words': ('решали', 'семейные', 'дела')}, None, None]]\n"
     ]
    }
   ],
   "source": [
    "print (root)"
   ]
  },
  {
   "cell_type": "code",
   "execution_count": 94,
   "metadata": {},
   "outputs": [],
   "source": [
    "def addValueToNode(node, value):\n",
    "    if node[1] == None:\n",
    "        node[1] = [value, None, None]\n",
    "    else:\n",
    "        addValueToNode(node[1], value)\n",
    "    if node[2] == None:\n",
    "        node[2] = [value, None, None]\n",
    "    else:\n",
    "        addValueToNode(node[2], value)"
   ]
  },
  {
   "cell_type": "code",
   "execution_count": null,
   "metadata": {},
   "outputs": [],
   "source": [
    "for i in range(i):\n",
    "    value = \n",
    "    addValueToNode(root, value)..."
   ]
  }
 ],
 "metadata": {
  "kernelspec": {
   "display_name": "Python 3",
   "language": "python",
   "name": "python3"
  },
  "language_info": {
   "codemirror_mode": {
    "name": "ipython",
    "version": 3
   },
   "file_extension": ".py",
   "mimetype": "text/x-python",
   "name": "python",
   "nbconvert_exporter": "python",
   "pygments_lexer": "ipython3",
   "version": "3.7.0"
  }
 },
 "nbformat": 4,
 "nbformat_minor": 4
}
